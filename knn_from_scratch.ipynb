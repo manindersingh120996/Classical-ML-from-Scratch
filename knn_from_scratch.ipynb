{
 "cells": [
  {
   "cell_type": "code",
   "execution_count": 5,
   "id": "d1a516ca",
   "metadata": {},
   "outputs": [
    {
     "name": "stdout",
     "output_type": "stream",
     "text": [
      "Iris dataset loaded with shape: (150, 4)\n",
      "Feature names: ['sepal length (cm)', 'sepal width (cm)', 'petal length (cm)', 'petal width (cm)']\n",
      "Target names: ['setosa' 'versicolor' 'virginica']\n",
      "First sample features: [5.1 3.5 1.4 0.2]\n",
      "First sample label: 0\n"
     ]
    }
   ],
   "source": [
    "import numpy as np\n",
    "from sklearn.datasets import load_iris\n",
    "\n",
    "iris = load_iris()\n",
    "x = iris.data\n",
    "y = iris.target\n",
    "\n",
    "print(\"Iris dataset loaded with shape:\", x.shape)\n",
    "print(\"Feature names:\", iris.feature_names)\n",
    "print(\"Target names:\", iris.target_names)\n",
    "print(\"First sample features:\", x[0])\n",
    "print(\"First sample label:\", y[0])\n",
    "# eucldiean dis"
   ]
  },
  {
   "cell_type": "code",
   "execution_count": 6,
   "id": "94b53503",
   "metadata": {},
   "outputs": [],
   "source": [
    "from sklearn.model_selection import train_test_split\n",
    "x_train,x_test,y_train,y_test = train_test_split(x,y,test_size=0.2,random_state=42)"
   ]
  },
  {
   "cell_type": "code",
   "execution_count": 7,
   "id": "3c45029b",
   "metadata": {},
   "outputs": [
    {
     "data": {
      "text/plain": [
       "0.5385164807134502"
      ]
     },
     "execution_count": 7,
     "metadata": {},
     "output_type": "execute_result"
    }
   ],
   "source": [
    "# euclidean distance from scratch \n",
    "import math\n",
    "def euclidean_distance_fram_scratch(x1,x2):\n",
    "    if len(x1) != len(x2):\n",
    "        raise ValueError(\"Input vecots must have the same length\")\n",
    "    distance = 0.0\n",
    "    for i in range(len(x1)):\n",
    "        distance += ((x1[i] - x2[i])**2)\n",
    "    return math.sqrt(distance)\n",
    "\n",
    "euclidean_distance_fram_scratch(x[0],x[1])"
   ]
  },
  {
   "cell_type": "code",
   "execution_count": 17,
   "id": "81f748e3",
   "metadata": {},
   "outputs": [],
   "source": [
    "# building KNN from scratch\n",
    "from collections import Counter\n",
    "class KNN():\n",
    "    def __init__(self,k=3):\n",
    "        self.k = k\n",
    "\n",
    "    def fit(self,x,y):\n",
    "        if len(x) != len(y):\n",
    "            raise ValueError(\"Input feature must be same length as target labels\")\n",
    "        self.x_train = x\n",
    "        self.y_train = y\n",
    "\n",
    "    def predict(self, X):\n",
    "        \"\"\"\n",
    "        To predict over the n query points.\n",
    "        \"\"\"\n",
    "        return [self._predict(x) for x in X]\n",
    "    \n",
    "    def _predict(self,x):\n",
    "        \"\"\"\n",
    "        To predict over a single query point.\n",
    "        We will find the k nearest neighbors  using euclidean distance, then we will\n",
    "        sort the neighbors by distance and return the most common class label.\n",
    "        \"\"\"\n",
    "        distances = []\n",
    "        for i in range(len(self.x_train)):\n",
    "            distance = euclidean_distance_fram_scratch(x,self.x_train[i])\n",
    "            distances.append(distance)\n",
    "\n",
    "        top_k = np.argsort(distances)[:self.k]\n",
    "\n",
    "        top_k_elements = [self.y_train[i] for i in top_k]\n",
    "\n",
    "        most_common = Counter(top_k_elements).most_common(1)\n",
    "\n",
    "        return most_common[0][0]\n",
    "        \n",
    "\n",
    "\n"
   ]
  },
  {
   "cell_type": "code",
   "execution_count": 27,
   "id": "d8ef786d",
   "metadata": {},
   "outputs": [
    {
     "name": "stdout",
     "output_type": "stream",
     "text": [
      "Prediction:  [1, 0, 2, 1, 1, 0, 1, 2, 2, 1]\n",
      "True Labels:  [1 0 2 1 1 0 1 2 1 1]\n"
     ]
    }
   ],
   "source": [
    "# testing code\n",
    "\n",
    "knn = KNN(7)\n",
    "knn.fit(x_train,y_train)\n",
    "\n",
    "predictions = knn.predict(x_test)\n",
    "\n",
    "#show Predictions\n",
    "\n",
    "print(\"Prediction: \", predictions[:10])\n",
    "print(\"True Labels: \",y_test[:10])"
   ]
  },
  {
   "cell_type": "code",
   "execution_count": 35,
   "id": "6972442a",
   "metadata": {},
   "outputs": [],
   "source": [
    "# evaluation part\n",
    "\n",
    "# accuracy = (total_correct_predictions)/total_predicitons\n",
    "\n",
    "def accuracy(y_test,y_pred):\n",
    "    total_predictions = len(y_test)\n",
    "\n",
    "    correct_predictions_index = []\n",
    "    for i in range(total_predictions):\n",
    "        if y_test[i] == y_pred[i]:\n",
    "            correct_predictions_index.append(i)\n",
    "    return len(correct_predictions_index)/total_predictions,correct_predictions_index\n",
    "\n"
   ]
  },
  {
   "cell_type": "code",
   "execution_count": 36,
   "id": "63516c98",
   "metadata": {},
   "outputs": [
    {
     "name": "stdout",
     "output_type": "stream",
     "text": [
      "0.9666666666666667\n"
     ]
    }
   ],
   "source": [
    "accu, _ = accuracy(y_test,predictions)\n",
    "print(accu)"
   ]
  },
  {
   "cell_type": "code",
   "execution_count": 40,
   "id": "51aa7c61",
   "metadata": {},
   "outputs": [
    {
     "name": "stdout",
     "output_type": "stream",
     "text": [
      "[1.0, 1.0, 1.0, 1.0, 1.0, 1.0, 0.9666666666666667, 1.0, 1.0, 1.0, 1.0, 1.0, 1.0, 1.0, 1.0, 1.0, 1.0, 1.0, 1.0, 1.0]\n"
     ]
    },
    {
     "data": {
      "image/png": "[encoded data removed]",
      "text/plain": [
       "<Figure size 640x480 with 1 Axes>"
      ]
     },
     "metadata": {},
     "output_type": "display_data"
    }
   ],
   "source": [
    "import matplotlib.pyplot as plt\n",
    "\n",
    "k_values = range(1, 21)\n",
    "accuracies = []\n",
    "\n",
    "for k in k_values:\n",
    "    model = KNN(k=k)\n",
    "    model.fit(x_train, y_train)\n",
    "    y_pred = model.predict(x_test)\n",
    "    accu,_ = accuracy(y_test, y_pred)\n",
    "    accuracies.append(accu)\n",
    "print(accuracies)\n",
    "\n",
    "# Plot\n",
    "plt.plot(k_values, accuracies, marker='o')\n",
    "plt.xlabel('K')\n",
    "plt.ylabel('Accuracy')\n",
    "plt.title('Accuracy vs K in KNN')\n",
    "plt.grid(True)\n",
    "plt.show()\n"
   ]
  },
  {
   "cell_type": "code",
   "execution_count": null,
   "id": "8c8a0836",
   "metadata": {},
   "outputs": [],
   "source": []
  }
 ],
 "metadata": {
  "kernelspec": {
   "display_name": "testenv",
   "language": "python",
   "name": "python3"
  },
  "language_info": {
   "codemirror_mode": {
    "name": "ipython",
    "version": 3
   },
   "file_extension": ".py",
   "mimetype": "text/x-python",
   "name": "python",
   "nbconvert_exporter": "python",
   "pygments_lexer": "ipython3",
   "version": "3.10.11"
  }
 },
 "nbformat": 4,
 "nbformat_minor": 5
}
